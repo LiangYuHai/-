{
 "cells": [
  {
   "cell_type": "code",
   "execution_count": 1,
   "metadata": {},
   "outputs": [],
   "source": [
    "import numpy as np"
   ]
  },
  {
   "cell_type": "code",
   "execution_count": null,
   "metadata": {},
   "outputs": [],
   "source": [
    "class HMM:\n",
    "    def __init__(self, A, B, PI, O, vocab):\n",
    "        self.A = A\n",
    "        self.B = B\n",
    "        self.PI = PI\n",
    "        self.O = O\n",
    "        self.hidden_nums = len(A)\n",
    "        self.vocab = vocab\n",
    "        self.time = len(O)\n",
    "        self.alpha = np.zeros((self.hidden_nums, self.time))\n",
    "        \n",
    "    def forward(self):\n",
    "        for t in range(self.time):\n",
    "            if t == 0 :\n",
    "                for h in range(self.hidden_nums):\n",
    "                    self.alpha[h][t] = PI[h]*self.B[h][self.vocab.index(self.O[0])]\n",
    "            else:\n",
    "                for h in range(self.hidden_nums):\n",
    "                    self.alpha[h][t] = np.dot([self.alpha[i][t-1] for i in range(self.hidden_nums)], [self.A[i][h] for i in range(self.hidden_nums)])*self.B[h][self.vocab.index(self.O[t])]\n",
    "        p = np.sum(self.alpha[:,-1])\n",
    "        return p\n",
    "    \n",
    "    def viterbi(self):\n",
    "        self.delta = np.zeros((self.hidden_nums, self.time))\n",
    "        self.pips = np.zeros((self.hidden_nums, self.time))\n",
    "        for t in range(self.time):\n",
    "            if t == 0:\n",
    "                for h in range(self.hidden_nums):\n",
    "                    self.delta[h][t] = PI[h]**self.B[h][self.vocab.index(self.O[0])]\n",
    "                    self.pips[h][t] = 0\n",
    "            else:\n",
    "                for h in range(self.hidden_nums):\n",
    "                    self.delta[h][t] = np.max(np.multipy([self.delta[i][t-1] for i in range(self.hidden_nums)], [self.A[i][h] for i in range(self.hidden_nums)]))*self.B[h][self.vocab.index(self.O[t])]\n",
    "                    self.pips[h][t] = np.argmax(np.multipy([self.delta[i][t-1] for i in range(self.hidden_nums)], [self.A[i][h] for i in range(self.hidden_nums)]))\n",
    "        best_path = []\n",
    "        hidden = np.argmax([d[-1] for d in self.delta])\n",
    "        best_path.append(hidden)\n",
    "        for t in range(self.time-2, -1, -1):            \n",
    "            hidden = self.pips[hidden][t]\n",
    "            best_path.append(hidden)\n",
    "        return hidden[::-1]"
   ]
  }
 ],
 "metadata": {
  "kernelspec": {
   "display_name": "Python 3",
   "language": "python",
   "name": "python3"
  },
  "language_info": {
   "codemirror_mode": {
    "name": "ipython",
    "version": 3
   },
   "file_extension": ".py",
   "mimetype": "text/x-python",
   "name": "python",
   "nbconvert_exporter": "python",
   "pygments_lexer": "ipython3",
   "version": "3.7.0"
  }
 },
 "nbformat": 4,
 "nbformat_minor": 2
}
