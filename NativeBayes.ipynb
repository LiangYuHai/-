{
 "cells": [
  {
   "cell_type": "code",
   "execution_count": 5,
   "metadata": {},
   "outputs": [],
   "source": [
    "import numpy as np"
   ]
  },
  {
   "cell_type": "code",
   "execution_count": 2,
   "metadata": {},
   "outputs": [],
   "source": [
    "import math"
   ]
  },
  {
   "cell_type": "code",
   "execution_count": null,
   "metadata": {},
   "outputs": [],
   "source": [
    "class GaussianNB:\n",
    "    def __init__(self):\n",
    "        self.model\n",
    "        self.labels\n",
    "        self.num_features\n",
    "        \n",
    "    def fit(self, X_train, y_train): \n",
    "        self.num_features = len(X_train[0])\n",
    "        self.labels = list(set(y_train))\n",
    "        data = {label:[] for label in self.labels}\n",
    "        for x, y in zip(X_train, y_train):\n",
    "            data[y].append(x)\n",
    "            \n",
    "        for label in self.labels:\n",
    "            data[label] = (np.mean(data[label], axis=0), np.std(data[label], axis=0))\n",
    "        \n",
    "        self.model = data\n",
    "    \n",
    "    def gaussian_law(self, X, mean, std):  #高斯公式\n",
    "        up = -math.pow(x-mean, 2)\n",
    "        down = 2*math.pow(std, 2)\n",
    "        return prob = (1/(math.sqrt(2*math.pi)*std))*math.exp(up/down)\n",
    "    \n",
    "    def predict(self, test_X):\n",
    "        result = []\n",
    "        for X in text_X:\n",
    "            prob = []\n",
    "            for label in self.labels:\n",
    "                p = 1\n",
    "                for i in range(self.num_features):\n",
    "                    mean = self.model[label][0][i]\n",
    "                    std = self.model[label][1][i]\n",
    "                    x = X[i]\n",
    "                    p *= self.gaussian_law(x, mean, std)\n",
    "                prob.append(p)\n",
    "            result.append(prob)\n",
    "        return result"
   ]
  }
 ],
 "metadata": {
  "kernelspec": {
   "display_name": "Python 3",
   "language": "python",
   "name": "python3"
  },
  "language_info": {
   "codemirror_mode": {
    "name": "ipython",
    "version": 3
   },
   "file_extension": ".py",
   "mimetype": "text/x-python",
   "name": "python",
   "nbconvert_exporter": "python",
   "pygments_lexer": "ipython3",
   "version": "3.7.0"
  }
 },
 "nbformat": 4,
 "nbformat_minor": 2
}
