{
 "cells": [
  {
   "cell_type": "code",
   "execution_count": 1,
   "metadata": {},
   "outputs": [],
   "source": [
    "import numpy as np\n",
    "from collections import Counter"
   ]
  },
  {
   "cell_type": "code",
   "execution_count": 2,
   "metadata": {},
   "outputs": [],
   "source": [
    "class KNN:\n",
    "    def __init__(self, X_train, y_train, n=3, p=2):\n",
    "        self.X_train = X_train\n",
    "        self.y_train = y_train\n",
    "        self.n = n\n",
    "        self.p = p\n",
    "    \n",
    "    def predict(self, x_predict):\n",
    "        all_dist = []\n",
    "        for i in range(len(self.X_train)):\n",
    "            dist = np.linalg.norm(x_predict, self.X_train[i], ord=p)\n",
    "            all_dist.append((dist, self.y_train[i]))\n",
    "        min_three = sorted(all_dist, key=lambda x:x[0])[:n]\n",
    "        labels = [i[1] for i in min_three]\n",
    "        labels = Counter(labels)\n",
    "        return sorted(labels.items(), key=lambda x:x[1])[-1][0]\n",
    "    "
   ]
  },
  {
   "cell_type": "code",
   "execution_count": null,
   "metadata": {},
   "outputs": [],
   "source": []
  }
 ],
 "metadata": {
  "kernelspec": {
   "display_name": "Python 3",
   "language": "python",
   "name": "python3"
  },
  "language_info": {
   "codemirror_mode": {
    "name": "ipython",
    "version": 3
   },
   "file_extension": ".py",
   "mimetype": "text/x-python",
   "name": "python",
   "nbconvert_exporter": "python",
   "pygments_lexer": "ipython3",
   "version": "3.7.0"
  }
 },
 "nbformat": 4,
 "nbformat_minor": 2
}
