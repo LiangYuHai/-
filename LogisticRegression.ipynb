{
 "cells": [
  {
   "cell_type": "code",
   "execution_count": null,
   "metadata": {},
   "outputs": [],
   "source": [
    "class LogisticRegressionClassifier:\n",
    "    def __init__(self, max_epochs, learning_rate):\n",
    "        self.max_epochs = max_epochs\n",
    "        self.learning_rate =learning_rate\n",
    "        \n",
    "    def sigmoid(self, x):\n",
    "        return 1/(1+exp(-x))\n",
    "    \n",
    "    def fit(self, X, y):\n",
    "        data = []\n",
    "        for i in range(len(X)):\n",
    "            data.append([1.0, *X[i]])\n",
    "        self.weigths = np.ones((len(data[0]), 1), dtype=np.float32)\n",
    "        for i in range(self.max_epochs):\n",
    "            for j in range(len(data)):\n",
    "                pred = self.sigmoid(np.dot(data[j], self.weigths))\n",
    "                dist = y[j] - pred\n",
    "                self.weights += self.learning_rate*dist*np.transpose([data[j]])\n",
    "    \n",
    "    def score(self, test_X, test_y):\n",
    "        data = []\n",
    "        for i in range(len(test_X)):\n",
    "            data.append([1.0, *test_X[i]])\n",
    "        right = 0\n",
    "        for i in range(len(data)):\n",
    "            pred = self.sigmoid(np.dot(data[i], self.weigths))\n",
    "            if (pred > 0.5 and test_y[i]==1) or (pred<=0.5 and test_y[i]==0):\n",
    "                right += 1\n",
    "        print(right/len(test_y))"
   ]
  }
 ],
 "metadata": {
  "kernelspec": {
   "display_name": "Python 3",
   "language": "python",
   "name": "python3"
  },
  "language_info": {
   "codemirror_mode": {
    "name": "ipython",
    "version": 3
   },
   "file_extension": ".py",
   "mimetype": "text/x-python",
   "name": "python",
   "nbconvert_exporter": "python",
   "pygments_lexer": "ipython3",
   "version": "3.7.0"
  }
 },
 "nbformat": 4,
 "nbformat_minor": 2
}
