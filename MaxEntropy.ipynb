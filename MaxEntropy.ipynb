{
 "cells": [
  {
   "cell_type": "code",
   "execution_count": 1,
   "metadata": {},
   "outputs": [],
   "source": [
    "import numpy as np\n"
   ]
  },
  {
   "cell_type": "code",
   "execution_count": null,
   "metadata": {},
   "outputs": [],
   "source": [
    "class MaxEntropy:\n",
    "    def __init__(self, eps):\n",
    "        self.eps = eps\n",
    "        \n",
    "    def init(self, X, y):\n",
    "        self.feature_fn = {}\n",
    "        for i in range(len(X)):\n",
    "            for j in range(len(X[0]):\n",
    "                if (X[i][j], y[i]) in self.feature_fn:\n",
    "                    self.feature_fn[(X[i][j], y[i])] += 1\n",
    "                else:\n",
    "                    self.feature_fn[(X[i][j], y[i])] = 0\n",
    "        self.labels = list(set(y))\n",
    "        self.features_keys = list(self.feature_fn.keys())\n",
    "        self.num_feature_fn = len(self.feature_keys)\n",
    "        self.Ep = [i/len(X) for i in self.feature_fn.values()]\n",
    "        self.weigths = [0]*self.num_feature_fn\n",
    "        self.X = X\n",
    "                           \n",
    "    def Zx(self, example):\n",
    "        value = 0\n",
    "        for y in self.labels:\n",
    "            sub_val = 0\n",
    "            for x in example:\n",
    "                if (x, y) in self.feature_fn:\n",
    "                    sub_val += self.feature_fn[(x, y)]\n",
    "            value += exp(sub_val)\n",
    "        return value\n",
    "    \n",
    "    def Pyx(self, example, y):\n",
    "        zx = self.Zx(example)\n",
    "        value = 0\n",
    "        for x in example:\n",
    "            if (x, y) in self.feature_fn:\n",
    "                value += self.feature_fn[(x, y)]\n",
    "        return exp(value)/zx\n",
    "    \n",
    "    def Ep_model(self, i):\n",
    "        x, y = self.features_keys[i]\n",
    "        value = 0\n",
    "        for example in self.X:\n",
    "            if x in example:\n",
    "                value += self.Pyx(example, y)/len(self.X)\n",
    "        return value\n",
    "                           \n",
    "    def fit(self, X, y):\n",
    "        self.init(X,y)\n",
    "        flag = True\n",
    "        while flag:\n",
    "            flag = False\n",
    "            for i in range(len(self.weigths)):\n",
    "                ep_model = self.Ep_model(i)\n",
    "                ep = self.Ep[i]\n",
    "                self.weigths[i] += math.log(ep/ep_model)/len(X[0])\n",
    "                if abs(math.log(ep/ep_model)/len(X[0])) > self.eps:\n",
    "                    flag = True\n",
    "        print('train model done')\n",
    "    \n",
    "    def predict(self, test_X):\n",
    "        result = {}\n",
    "        for label in self.labels:\n",
    "            pyx = self.Pyx(test_X, label)\n",
    "            result[label] = pyx\n",
    "        return result"
   ]
  }
 ],
 "metadata": {
  "kernelspec": {
   "display_name": "Python 3",
   "language": "python",
   "name": "python3"
  },
  "language_info": {
   "codemirror_mode": {
    "name": "ipython",
    "version": 3
   },
   "file_extension": ".py",
   "mimetype": "text/x-python",
   "name": "python",
   "nbconvert_exporter": "python",
   "pygments_lexer": "ipython3",
   "version": "3.7.0"
  }
 },
 "nbformat": 4,
 "nbformat_minor": 2
}
